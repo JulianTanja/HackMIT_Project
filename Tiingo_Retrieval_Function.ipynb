{
 "cells": [
  {
   "cell_type": "code",
   "execution_count": 1,
   "id": "c5ca739b",
   "metadata": {},
   "outputs": [],
   "source": [
    "import tiingo #Tiingo API used for stock price time series data\n",
    "from tiingo import TiingoClient #TiingoClient establishes connection to API\n",
    "\n",
    "client = TiingoClient({'api_key':'296d8e8627cf5eb878e6f84435c023614096a5e2'}) #Input API Token for Tiingo API\n",
    "\n",
    "\n",
    "def extract_hourly_timeseries_price_data(start_date, end_date, ticker):\n",
    "    ticker_history = client.get_dataframe(ticker, frequency='1Hour', metric_name='close', \n",
    "                                          startDate= start_date, endDate= end_date)\n",
    "    return ticker_history"
   ]
  },
  {
   "cell_type": "code",
   "execution_count": null,
   "id": "864904f1",
   "metadata": {},
   "outputs": [],
   "source": []
  }
 ],
 "metadata": {
  "kernelspec": {
   "display_name": "Python 3 (ipykernel)",
   "language": "python",
   "name": "python3"
  },
  "language_info": {
   "codemirror_mode": {
    "name": "ipython",
    "version": 3
   },
   "file_extension": ".py",
   "mimetype": "text/x-python",
   "name": "python",
   "nbconvert_exporter": "python",
   "pygments_lexer": "ipython3",
   "version": "3.9.12"
  }
 },
 "nbformat": 4,
 "nbformat_minor": 5
}
